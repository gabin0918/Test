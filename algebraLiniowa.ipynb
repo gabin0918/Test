{
  "nbformat": 4,
  "nbformat_minor": 0,
  "metadata": {
    "colab": {
      "provenance": [],
      "authorship_tag": "ABX9TyNPcxtSfWe3nXN9HH40cTEy",
      "include_colab_link": true
    },
    "kernelspec": {
      "name": "python3",
      "display_name": "Python 3"
    },
    "language_info": {
      "name": "python"
    }
  },
  "cells": [
    {
      "cell_type": "markdown",
      "metadata": {
        "id": "view-in-github",
        "colab_type": "text"
      },
      "source": [
        "<a href=\"https://colab.research.google.com/github/gabin0918/Test/blob/main/algebraLiniowa.ipynb\" target=\"_parent\"><img src=\"https://colab.research.google.com/assets/colab-badge.svg\" alt=\"Open In Colab\"/></a>"
      ]
    },
    {
      "cell_type": "code",
      "execution_count": 1,
      "metadata": {
        "id": "jkaoxSlSs7x2"
      },
      "outputs": [],
      "source": [
        "import numpy as np"
      ]
    },
    {
      "cell_type": "markdown",
      "source": [
        "#Mnozenie macierzy"
      ],
      "metadata": {
        "id": "wHhkKT0rvmdg"
      }
    },
    {
      "cell_type": "code",
      "source": [
        "X=np.array([[5,3],[3,9]])\n",
        "print(X)"
      ],
      "metadata": {
        "id": "vf0pw6BdvjUp",
        "outputId": "0b789ac8-5722-4ee6-e3c1-11d9d0261fd3",
        "colab": {
          "base_uri": "https://localhost:8080/"
        }
      },
      "execution_count": 3,
      "outputs": [
        {
          "output_type": "stream",
          "name": "stdout",
          "text": [
            "[[5 3]\n",
            " [3 9]]\n"
          ]
        }
      ]
    },
    {
      "cell_type": "code",
      "source": [
        "Y=np.array([[1],[-1]])\n",
        "print(Y)"
      ],
      "metadata": {
        "id": "6GBJiPSAv3DZ",
        "outputId": "95673261-5962-4495-d58f-23c224c471ec",
        "colab": {
          "base_uri": "https://localhost:8080/"
        }
      },
      "execution_count": 5,
      "outputs": [
        {
          "output_type": "stream",
          "name": "stdout",
          "text": [
            "[[ 1]\n",
            " [-1]]\n"
          ]
        }
      ]
    },
    {
      "cell_type": "code",
      "source": [
        "Z=X.dot(Y)\n",
        "print(Z)"
      ],
      "metadata": {
        "id": "6C1ID4bcv-mv",
        "outputId": "a6d21fd7-8859-45e7-825e-28f4faf41118",
        "colab": {
          "base_uri": "https://localhost:8080/"
        }
      },
      "execution_count": 7,
      "outputs": [
        {
          "output_type": "stream",
          "name": "stdout",
          "text": [
            "[[ 2]\n",
            " [-6]]\n"
          ]
        }
      ]
    },
    {
      "cell_type": "code",
      "source": [
        "X=np.array([[2,-1,3],[3,1,0]])\n",
        "Y=np.array([[2,1,-1],[0,-1,2],[3,2,0]])\n",
        "Z=X.dot(Y)\n",
        "print(Z)"
      ],
      "metadata": {
        "id": "WPq7Tnt7wKTC",
        "outputId": "d2af6bad-ca68-482a-ae11-9ca96a95d548",
        "colab": {
          "base_uri": "https://localhost:8080/"
        }
      },
      "execution_count": 9,
      "outputs": [
        {
          "output_type": "stream",
          "name": "stdout",
          "text": [
            "[[13  9 -4]\n",
            " [ 6  2 -1]]\n"
          ]
        }
      ]
    },
    {
      "cell_type": "code",
      "source": [
        "#wyznacznik macierzy\n",
        "A=np.array([[2,4],[-1,3]])\n",
        "round(np.linalg.det(A))"
      ],
      "metadata": {
        "id": "rQO56G9Gw_xr",
        "outputId": "de6a9be0-4cd0-4819-c647-062c5fb50d1d",
        "colab": {
          "base_uri": "https://localhost:8080/"
        }
      },
      "execution_count": 11,
      "outputs": [
        {
          "output_type": "execute_result",
          "data": {
            "text/plain": [
              "10"
            ]
          },
          "metadata": {},
          "execution_count": 11
        }
      ]
    },
    {
      "cell_type": "code",
      "source": [
        "#Ślad macierzy\n",
        "np.trace(A)"
      ],
      "metadata": {
        "id": "5OetEgs0yVOP",
        "outputId": "5f13637a-7123-4c4f-a601-626b2149850f",
        "colab": {
          "base_uri": "https://localhost:8080/"
        }
      },
      "execution_count": 12,
      "outputs": [
        {
          "output_type": "execute_result",
          "data": {
            "text/plain": [
              "5"
            ]
          },
          "metadata": {},
          "execution_count": 12
        }
      ]
    },
    {
      "cell_type": "code",
      "source": [
        "#macierz jednostkowa\n",
        "A=np.eye(5,dtype='int')\n",
        "print(A)"
      ],
      "metadata": {
        "id": "pXgXuIQYyqFs",
        "outputId": "014cfc84-f810-4c99-d301-191d9cdf130a",
        "colab": {
          "base_uri": "https://localhost:8080/"
        }
      },
      "execution_count": 22,
      "outputs": [
        {
          "output_type": "stream",
          "name": "stdout",
          "text": [
            "[[1 0 0 0 0]\n",
            " [0 1 0 0 0]\n",
            " [0 0 1 0 0]\n",
            " [0 0 0 1 0]\n",
            " [0 0 0 0 1]]\n"
          ]
        }
      ]
    },
    {
      "cell_type": "code",
      "source": [
        "A=np.array([[2,-1],[4,3]])"
      ],
      "metadata": {
        "id": "1ZtN59lXz9Y1"
      },
      "execution_count": 25,
      "outputs": []
    },
    {
      "cell_type": "code",
      "source": [
        "#macierz odwrotna\n",
        "B=np.linalg.inv(A)\n",
        "print(B)"
      ],
      "metadata": {
        "id": "7ksDqmubzLCP",
        "outputId": "bf79e8ea-7a53-4798-cf2c-0dd28338c3ba",
        "colab": {
          "base_uri": "https://localhost:8080/"
        }
      },
      "execution_count": 26,
      "outputs": [
        {
          "output_type": "stream",
          "name": "stdout",
          "text": [
            "[[ 0.3  0.1]\n",
            " [-0.4  0.2]]\n"
          ]
        }
      ]
    },
    {
      "cell_type": "code",
      "source": [
        "np.set_printoptions(precision=4,suppress=True)\n",
        "np.dot(A,B)"
      ],
      "metadata": {
        "id": "4A_Cx0P3zw03",
        "outputId": "8556fe78-0223-4f44-fe37-1ab792c39e56",
        "colab": {
          "base_uri": "https://localhost:8080/"
        }
      },
      "execution_count": 29,
      "outputs": [
        {
          "output_type": "execute_result",
          "data": {
            "text/plain": [
              "array([[ 1., -0.],\n",
              "       [ 0.,  1.]])"
            ]
          },
          "metadata": {},
          "execution_count": 29
        }
      ]
    },
    {
      "cell_type": "code",
      "source": [
        "#macierz transponowana\n",
        "np.transpose(A)\n"
      ],
      "metadata": {
        "id": "3Qnkz1xQ0SMg",
        "outputId": "68d1d45e-d262-4b56-a9ba-e017f35cea8b",
        "colab": {
          "base_uri": "https://localhost:8080/"
        }
      },
      "execution_count": 30,
      "outputs": [
        {
          "output_type": "execute_result",
          "data": {
            "text/plain": [
              "array([[ 2,  4],\n",
              "       [-1,  3]])"
            ]
          },
          "metadata": {},
          "execution_count": 30
        }
      ]
    },
    {
      "cell_type": "code",
      "source": [
        "A.T"
      ],
      "metadata": {
        "id": "Ncpn2OxU2uoR",
        "outputId": "84c2c2e0-3df9-40d2-b039-0e2ed735407c",
        "colab": {
          "base_uri": "https://localhost:8080/"
        }
      },
      "execution_count": 32,
      "outputs": [
        {
          "output_type": "execute_result",
          "data": {
            "text/plain": [
              "array([[ 2,  4],\n",
              "       [-1,  3]])"
            ]
          },
          "metadata": {},
          "execution_count": 32
        }
      ]
    },
    {
      "cell_type": "markdown",
      "source": [
        "#uklady rownan"
      ],
      "metadata": {
        "id": "A81RoQ-f26hd"
      }
    },
    {
      "cell_type": "code",
      "source": [
        "A=np.array([[2,4],[1,-1]])\n",
        "B=np.array([[10],[-1]])\n",
        "print(A,'\\n\\n',B)"
      ],
      "metadata": {
        "id": "WYqWxhdp2vvv",
        "outputId": "8ba7b7eb-53fd-43e6-adbc-e9595c2dce88",
        "colab": {
          "base_uri": "https://localhost:8080/"
        }
      },
      "execution_count": 39,
      "outputs": [
        {
          "output_type": "stream",
          "name": "stdout",
          "text": [
            "[[ 2  4]\n",
            " [ 1 -1]] \n",
            "\n",
            " [[10]\n",
            " [-1]]\n"
          ]
        }
      ]
    },
    {
      "cell_type": "code",
      "source": [
        "A_inv=np.linalg.inv(A)\n",
        "X=A_inv.dot(B)\n",
        "print(X)"
      ],
      "metadata": {
        "id": "fochPQmK4l7R",
        "outputId": "d1ff9317-d895-40d1-b918-4ad1d3f2379e",
        "colab": {
          "base_uri": "https://localhost:8080/"
        }
      },
      "execution_count": 37,
      "outputs": [
        {
          "output_type": "stream",
          "name": "stdout",
          "text": [
            "[[1.]\n",
            " [2.]]\n"
          ]
        }
      ]
    },
    {
      "cell_type": "code",
      "source": [
        "X.shape"
      ],
      "metadata": {
        "id": "TQHM9SWx5Jzy",
        "outputId": "abe2f5ca-0c1b-4821-8519-3a34f5944051",
        "colab": {
          "base_uri": "https://localhost:8080/"
        }
      },
      "execution_count": 40,
      "outputs": [
        {
          "output_type": "execute_result",
          "data": {
            "text/plain": [
              "(2, 1)"
            ]
          },
          "metadata": {},
          "execution_count": 40
        }
      ]
    }
  ]
}